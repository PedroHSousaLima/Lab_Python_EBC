{
 "cells": [
  {
   "cell_type": "markdown",
   "id": "b47ba8bc",
   "metadata": {},
   "source": [
    "## Automação Exportar Dados\n",
    "\n",
    "01 Passo: Executar a ferramenta de Radio;</br>\n",
    "02 Passo: Acessar o templante de dados;</br>\n",
    "03 Passo: Realizar o preenchimento de informações;</br>\n",
    "04 Passo: Realizar o download;</br>\n",
    "05 Passo: Renomear o Arquivo;</br>\n",
    "06 Passo: Jogar o CSV na Nuvem;</br>"
   ]
  },
  {
   "cell_type": "markdown",
   "id": "b60fd082",
   "metadata": {},
   "source": [
    "### Import Bibliotecas"
   ]
  },
  {
   "cell_type": "code",
   "execution_count": 36,
   "id": "18c905a8",
   "metadata": {},
   "outputs": [
    {
     "name": "stdout",
     "output_type": "stream",
     "text": [
      "inicio da tratativa dos dados:\n",
      "12-01-2023  09:41:18\n"
     ]
    }
   ],
   "source": [
    "import pyautogui as pag\n",
    "import pyperclip as pc\n",
    "import time\n",
    "from datetime import datetime\n",
    "\n",
    "pag.PAUSE = 1\n",
    "\n",
    "h1 = datetime.today()\n",
    "dd1 = h1.strftime('%d-%m-%Y  %H:%M:%S')\n",
    "print('inicio da tratativa dos dados:')\n",
    "print(dd1)"
   ]
  },
  {
   "cell_type": "code",
   "execution_count": null,
   "id": "e715437b",
   "metadata": {},
   "outputs": [],
   "source": []
  },
  {
   "cell_type": "markdown",
   "id": "f30fd2df",
   "metadata": {},
   "source": [
    "### Variáveis"
   ]
  },
  {
   "cell_type": "code",
   "execution_count": 37,
   "id": "d5dfcd5c",
   "metadata": {},
   "outputs": [],
   "source": [
    "agrd_crt = 3\n",
    "agrd_med = 30"
   ]
  },
  {
   "cell_type": "markdown",
   "id": "51c68b7a",
   "metadata": {},
   "source": [
    "### Localizar e Executar o software de Radio"
   ]
  },
  {
   "cell_type": "code",
   "execution_count": 38,
   "id": "4f32a2d9",
   "metadata": {},
   "outputs": [],
   "source": [
    "pag.hotkey(\"win\", \"r\")\n",
    "pc.copy(\"C:\\IBOPE\\EasyMedia 4\\esm.EasyMedia4.exe\")\n",
    "pag.hotkey(\"ctrl\", \"v\")\n",
    "pag.press(\"enter\")\n",
    "\n",
    "time.sleep(agrd_med)"
   ]
  },
  {
   "cell_type": "markdown",
   "id": "f434304b",
   "metadata": {},
   "source": [
    "## Posição do Mouse\n"
   ]
  },
  {
   "cell_type": "code",
   "execution_count": 45,
   "id": "3ec1b440",
   "metadata": {},
   "outputs": [
    {
     "data": {
      "text/plain": [
       "Point(x=1519, y=464)"
      ]
     },
     "execution_count": 45,
     "metadata": {},
     "output_type": "execute_result"
    }
   ],
   "source": [
    "time.sleep(5)\n",
    "pag.position()\n"
   ]
  },
  {
   "cell_type": "markdown",
   "id": "3da7e1f9",
   "metadata": {},
   "source": [
    "### BL01hh_DF Template 05-05  part-01"
   ]
  },
  {
   "cell_type": "code",
   "execution_count": 40,
   "id": "b735d92a",
   "metadata": {
    "scrolled": true
   },
   "outputs": [
    {
     "name": "stdout",
     "output_type": "stream",
     "text": [
      "Excutando Template\n"
     ]
    }
   ],
   "source": [
    "\n",
    "# Acesso a Template da tabela BL01hh_DF Template 05-05  part-01\n",
    "pag.click(x=1515, y=68, clicks=1)\n",
    "time.sleep(agrd_crt)\n",
    "\n",
    "pag.click(x=186, y=109, clicks=1)\n",
    "time.sleep(agrd_crt)\n",
    "\n",
    "pag.click(x=86, y=182, clicks=2)\n",
    "time.sleep(agrd_crt)\n",
    "\n",
    "print(\"Excutando Template\")\n",
    "pag.click(x=59, y=183, clicks=2)\n",
    "time.sleep(agrd_med)"
   ]
  },
  {
   "cell_type": "markdown",
   "id": "33289006",
   "metadata": {},
   "source": [
    "### Lista Período FOR"
   ]
  },
  {
   "cell_type": "code",
   "execution_count": null,
   "id": "47335135",
   "metadata": {},
   "outputs": [],
   "source": [
    "periodo = [\"JAN/2020 A MAR/2020\",\n",
    "           \"FEV/2020 A ABR/2020\", \n",
    "           \"MAR/2020 A MAI/2020\", \n",
    "           \"ABR/2020 A JUN/2020\", \n",
    "           \"MAI/2020 A JUL/2020\", \n",
    "           \"JUN/2020 A AGO/2020\", \n",
    "           \"JUL/2020 A SET/2020\", \n",
    "           \"AGO/2020 A OUT/2020\", \n",
    "           \"SET/2020 A NOV/2020\", \n",
    "           \"OUT/2020 A DEZ/2020\"]    "
   ]
  },
  {
   "cell_type": "markdown",
   "id": "929ac5d3",
   "metadata": {},
   "source": [
    "### Defina Período e Download"
   ]
  },
  {
   "cell_type": "code",
   "execution_count": 42,
   "id": "8fc53c3e",
   "metadata": {},
   "outputs": [
    {
     "name": "stdout",
     "output_type": "stream",
     "text": [
      "Iniciando processoJAN/2020 A MAR/2020\n",
      "Horário \n",
      "12-01-2023  09:42:42\n",
      "Gerando Dados\n",
      "Salvar em CSV\n",
      "Fim da AutomaçãoJAN/2020 A MAR/2020\n",
      "Fim da tratativa:JAN/2020 A MAR/2020duração de \n",
      "0:05:01.315872\n"
     ]
    }
   ],
   "source": [
    "\n",
    "\n",
    "\n",
    "\n",
    "time.sleep(2)\n",
    "for prd in periodo:\n",
    "    print(\"Iniciando processo \" + prd)\n",
    "    h2 = datetime.today()\n",
    "    dd2 = h2.strftime('%d-%m-%Y  %H:%M:%S')\n",
    "    print('Horário ')\n",
    "    print(dd2)\n",
    "    \n",
    "    \n",
    "    pag.click(x=1517, y=169, clicks=2)\n",
    "\n",
    "    time.sleep(3)\n",
    "    pag.hotkey(\"tab\")\n",
    "    time.sleep(3)\n",
    "    pag.hotkey(\"tab\")\n",
    "    #for x in range(2):\n",
    "        #pag.hotkey(\"tab\")\n",
    "        #time.sleep(2)\n",
    "\n",
    "    time.sleep(2)\n",
    "    # Definir período\n",
    "    pag.write(prd)\n",
    "    # pag.hotkey(\"ctrl\", \"v\")\n",
    "    time.sleep(agrd_crt)\n",
    "\n",
    "    pag.press(\"enter\")\n",
    "    time.sleep(agrd_crt)\n",
    "\n",
    "    pag.click(x=1556, y=539, clicks=2)\n",
    "    time.sleep(agrd_crt)\n",
    "\n",
    "    pag.click(x=284, y=242, clicks=2)\n",
    "    time.sleep(agrd_crt)\n",
    "\n",
    "    print(\"Gerando Dados \")\n",
    "    pag.click(x=37, y=111, clicks=2)\n",
    "    time.sleep(120)\n",
    "\n",
    "    print(\"Salvar em CSV\")\n",
    "    pag.click(x=134, y=110, clicks=1)\n",
    "    time.sleep(120)\n",
    "    \n",
    "#Salvar CSV na pasta Download\n",
    "    time.sleep(agrd_crt)\n",
    "    pag.hotkey(\"ctrl\",\"shift\", \"s\")\n",
    "\n",
    "    for x in range(7):\n",
    "        pag.press(\"tab\")\n",
    "        time.sleep(1)\n",
    "\n",
    "    pag.press(\"enter\")\n",
    "    pc.copy(r\"C:\\Users\\pedro.sousa\\Downloads\")\n",
    "    pag.hotkey(\"ctrl\", \"v\")\n",
    "    pag.press(\"enter\")\n",
    "\n",
    "    for x1 in range(3):\n",
    "        pag.press(\"enter\")\n",
    "        time.sleep(2)\n",
    "\n",
    "    pag.hotkey(\"alt\", \"F4\")\n",
    "    print(\"Fim da Automação \" + prd)\n",
    "    \n",
    "# Retorno de tela\n",
    "    pag.click(x=1821, y=107, clicks=1)\n",
    "    time.sleep(agrd_crt)\n",
    "    h3 = datetime.today()\n",
    "    ht = (h3 - h2)\n",
    "    #dd3 = h3.strftime('%H:%M:%S')\n",
    "    print('Fim da tratativa: ' + prd + \" duração de \")\n",
    "    print(ht)\n",
    "    "
   ]
  },
  {
   "cell_type": "code",
   "execution_count": 43,
   "id": "2be99231",
   "metadata": {},
   "outputs": [
    {
     "name": "stdout",
     "output_type": "stream",
     "text": [
      "Tempo Total \n",
      "0:06:24.926377\n"
     ]
    }
   ],
   "source": [
    "h4 = datetime.today()\n",
    "htt = (h4 - h1)\n",
    "print(\"Tempo Total \")\n",
    "print(htt)"
   ]
  }
 ],
 "metadata": {
  "kernelspec": {
   "display_name": "Python 3 (ipykernel)",
   "language": "python",
   "name": "python3"
  },
  "language_info": {
   "codemirror_mode": {
    "name": "ipython",
    "version": 3
   },
   "file_extension": ".py",
   "mimetype": "text/x-python",
   "name": "python",
   "nbconvert_exporter": "python",
   "pygments_lexer": "ipython3",
   "version": "3.9.7"
  }
 },
 "nbformat": 4,
 "nbformat_minor": 5
}
