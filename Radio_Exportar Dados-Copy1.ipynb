{
 "cells": [
  {
   "cell_type": "markdown",
   "id": "b47ba8bc",
   "metadata": {},
   "source": [
    "## Automação Exportar Dados\n",
    "\n",
    "01 Passo: Executar a ferramenta de Radio;</br>\n",
    "02 Passo: Acessar o templante de dados;</br>\n",
    "03 Passo: Realizar o preenchimento de informações;</br>\n",
    "04 Passo: Realizar o download;</br>\n",
    "05 Passo: Renomear o Arquivo;</br>\n",
    "06 Passo: Jogar o CSV na Nuvem;</br>"
   ]
  },
  {
   "cell_type": "markdown",
   "id": "b60fd082",
   "metadata": {},
   "source": [
    "### Import Bibliotecas"
   ]
  },
  {
   "cell_type": "code",
   "execution_count": 128,
   "id": "18c905a8",
   "metadata": {},
   "outputs": [],
   "source": [
    "import pyautogui as pag\n",
    "import pyperclip as pc\n",
    "import time\n",
    "\n",
    "pag.PAUSE = 1\n"
   ]
  },
  {
   "cell_type": "markdown",
   "id": "f30fd2df",
   "metadata": {},
   "source": [
    "### Variáveis"
   ]
  },
  {
   "cell_type": "code",
   "execution_count": 129,
   "id": "d5dfcd5c",
   "metadata": {},
   "outputs": [],
   "source": [
    "agrd_crt = 3\n",
    "agrd_med = 30"
   ]
  },
  {
   "cell_type": "markdown",
   "id": "51c68b7a",
   "metadata": {},
   "source": [
    "### Localizar e Executar o software de Radio"
   ]
  },
  {
   "cell_type": "code",
   "execution_count": 130,
   "id": "4f32a2d9",
   "metadata": {},
   "outputs": [],
   "source": [
    "pag.hotkey(\"win\", \"r\")\n",
    "pc.copy(\"C:\\IBOPE\\EasyMedia 4\\esm.EasyMedia4.exe\")\n",
    "pag.hotkey(\"ctrl\", \"v\")\n",
    "pag.press(\"enter\")\n",
    "\n",
    "time.sleep(agrd_med)"
   ]
  },
  {
   "cell_type": "markdown",
   "id": "f434304b",
   "metadata": {},
   "source": [
    "## Posição do Mouse\n"
   ]
  },
  {
   "cell_type": "code",
   "execution_count": 131,
   "id": "3ec1b440",
   "metadata": {},
   "outputs": [
    {
     "data": {
      "text/plain": [
       "Point(x=-1230, y=235)"
      ]
     },
     "execution_count": 131,
     "metadata": {},
     "output_type": "execute_result"
    }
   ],
   "source": [
    "time.sleep(5)\n",
    "pag.position()"
   ]
  },
  {
   "cell_type": "markdown",
   "id": "3da7e1f9",
   "metadata": {},
   "source": [
    "### BL01hh_DF Template 05-05  part-01"
   ]
  },
  {
   "cell_type": "code",
   "execution_count": 132,
   "id": "b735d92a",
   "metadata": {
    "scrolled": true
   },
   "outputs": [],
   "source": [
    "\n",
    "# Acesso a Template da tabela BL01hh_DF Template 05-05  part-01\n",
    "pag.click(x=1515, y=68, clicks=1)\n",
    "time.sleep(agrd_crt)\n",
    "\n",
    "pag.click(x=186, y=109, clicks=1)\n",
    "time.sleep(agrd_crt)\n",
    "\n",
    "pag.click(x=86, y=182, clicks=2)\n",
    "time.sleep(agrd_crt)\n",
    "\n",
    "pag.click(x=59, y=183, clicks=2)\n",
    "time.sleep(agrd_med)"
   ]
  },
  {
   "cell_type": "markdown",
   "id": "5fd13fe7",
   "metadata": {},
   "source": [
    "### Lista Período FOR"
   ]
  },
  {
   "cell_type": "code",
   "execution_count": 136,
   "id": "bfe109f2",
   "metadata": {},
   "outputs": [
    {
     "ename": "KeyboardInterrupt",
     "evalue": "",
     "output_type": "error",
     "traceback": [
      "\u001b[1;31m---------------------------------------------------------------------------\u001b[0m",
      "\u001b[1;31mKeyboardInterrupt\u001b[0m                         Traceback (most recent call last)",
      "\u001b[1;32mC:\\Users\\PEDRO~1.SOU\\AppData\\Local\\Temp/ipykernel_16792/2599615836.py\u001b[0m in \u001b[0;36m<module>\u001b[1;34m\u001b[0m\n\u001b[0;32m     13\u001b[0m     \u001b[0mpag\u001b[0m\u001b[1;33m.\u001b[0m\u001b[0mhotkey\u001b[0m\u001b[1;33m(\u001b[0m\u001b[1;34m\"win\"\u001b[0m\u001b[1;33m,\u001b[0m \u001b[1;34m\"r\"\u001b[0m\u001b[1;33m)\u001b[0m\u001b[1;33m\u001b[0m\u001b[1;33m\u001b[0m\u001b[0m\n\u001b[0;32m     14\u001b[0m     \u001b[0mpag\u001b[0m\u001b[1;33m.\u001b[0m\u001b[0mwrite\u001b[0m\u001b[1;33m(\u001b[0m\u001b[1;34m\"notepad\"\u001b[0m\u001b[1;33m)\u001b[0m\u001b[1;33m\u001b[0m\u001b[1;33m\u001b[0m\u001b[0m\n\u001b[1;32m---> 15\u001b[1;33m     \u001b[0mtime\u001b[0m\u001b[1;33m.\u001b[0m\u001b[0msleep\u001b[0m\u001b[1;33m(\u001b[0m\u001b[1;36m2\u001b[0m\u001b[1;33m)\u001b[0m\u001b[1;33m\u001b[0m\u001b[1;33m\u001b[0m\u001b[0m\n\u001b[0m\u001b[0;32m     16\u001b[0m     \u001b[0mpag\u001b[0m\u001b[1;33m.\u001b[0m\u001b[0mpress\u001b[0m\u001b[1;33m(\u001b[0m\u001b[1;34m\"enter\"\u001b[0m\u001b[1;33m)\u001b[0m\u001b[1;33m\u001b[0m\u001b[1;33m\u001b[0m\u001b[0m\n\u001b[0;32m     17\u001b[0m     \u001b[0mpag\u001b[0m\u001b[1;33m.\u001b[0m\u001b[0mwrite\u001b[0m\u001b[1;33m(\u001b[0m\u001b[0mprd\u001b[0m\u001b[1;33m)\u001b[0m\u001b[1;33m\u001b[0m\u001b[1;33m\u001b[0m\u001b[0m\n",
      "\u001b[1;31mKeyboardInterrupt\u001b[0m: "
     ]
    }
   ],
   "source": [
    "periodo = [\"DEZ/2019 A FEV/2020\", \n",
    "           \"JAN/2020 A MAR/2020\",\n",
    "           \"FEV/2020 A ABR/2020\", \n",
    "           \"MAR/2020 A MAI/2020\", \n",
    "           \"ABR/2020 A JUN/2020\", \n",
    "           \"MAI/2020 A JUL/2020\", \n",
    "           \"JUN/2020 A AGO/2020\", \n",
    "           \"JUL/2020 A SET/2020\", \n",
    "           \"AGO/2020 A OUT/2020\", \n",
    "           \"SET/2020 A NOV/2020\", \n",
    "           \"OUT/2020 A DEZ/2020\"]    "
   ]
  },
  {
   "cell_type": "code",
   "execution_count": null,
   "id": "d11dca1b",
   "metadata": {
    "collapsed": true
   },
   "outputs": [],
   "source": [
    "for prd in periodo:\n",
    "    pag.hotkey(\"win\", \"r\")\n",
    "    pag.write(\"notepad\")\n",
    "    time.sleep(2)\n",
    "    pag.press(\"enter\")\n",
    "    pag.write(prd)\n",
    "    time.sleep(3)\n",
    "    pag.hotkey(\"alt\",\"F4\")"
   ]
  },
  {
   "cell_type": "markdown",
   "id": "929ac5d3",
   "metadata": {},
   "source": [
    "### Defina Período e Download"
   ]
  },
  {
   "cell_type": "code",
   "execution_count": 134,
   "id": "8fc53c3e",
   "metadata": {},
   "outputs": [
    {
     "ename": "KeyboardInterrupt",
     "evalue": "",
     "output_type": "error",
     "traceback": [
      "\u001b[1;31m---------------------------------------------------------------------------\u001b[0m",
      "\u001b[1;31mKeyboardInterrupt\u001b[0m                         Traceback (most recent call last)",
      "\u001b[1;32mC:\\Users\\PEDRO~1.SOU\\AppData\\Local\\Temp/ipykernel_16792/217406640.py\u001b[0m in \u001b[0;36m<module>\u001b[1;34m\u001b[0m\n\u001b[0;32m     16\u001b[0m \u001b[1;33m\u001b[0m\u001b[0m\n\u001b[0;32m     17\u001b[0m     \u001b[0mpag\u001b[0m\u001b[1;33m.\u001b[0m\u001b[0mclick\u001b[0m\u001b[1;33m(\u001b[0m\u001b[0mx\u001b[0m\u001b[1;33m=\u001b[0m\u001b[1;36m1556\u001b[0m\u001b[1;33m,\u001b[0m \u001b[0my\u001b[0m\u001b[1;33m=\u001b[0m\u001b[1;36m539\u001b[0m\u001b[1;33m,\u001b[0m \u001b[0mclicks\u001b[0m\u001b[1;33m=\u001b[0m\u001b[1;36m2\u001b[0m\u001b[1;33m)\u001b[0m\u001b[1;33m\u001b[0m\u001b[1;33m\u001b[0m\u001b[0m\n\u001b[1;32m---> 18\u001b[1;33m     \u001b[0mtime\u001b[0m\u001b[1;33m.\u001b[0m\u001b[0msleep\u001b[0m\u001b[1;33m(\u001b[0m\u001b[0magrd_crt\u001b[0m\u001b[1;33m)\u001b[0m\u001b[1;33m\u001b[0m\u001b[1;33m\u001b[0m\u001b[0m\n\u001b[0m\u001b[0;32m     19\u001b[0m \u001b[1;33m\u001b[0m\u001b[0m\n\u001b[0;32m     20\u001b[0m     \u001b[0mpag\u001b[0m\u001b[1;33m.\u001b[0m\u001b[0mclick\u001b[0m\u001b[1;33m(\u001b[0m\u001b[0mx\u001b[0m\u001b[1;33m=\u001b[0m\u001b[1;36m284\u001b[0m\u001b[1;33m,\u001b[0m \u001b[0my\u001b[0m\u001b[1;33m=\u001b[0m\u001b[1;36m242\u001b[0m\u001b[1;33m,\u001b[0m \u001b[0mclicks\u001b[0m\u001b[1;33m=\u001b[0m\u001b[1;36m2\u001b[0m\u001b[1;33m)\u001b[0m\u001b[1;33m\u001b[0m\u001b[1;33m\u001b[0m\u001b[0m\n",
      "\u001b[1;31mKeyboardInterrupt\u001b[0m: "
     ]
    }
   ],
   "source": [
    "for prd in periodo:\n",
    "    pag.click(x=1517, y=169, clicks=2)\n",
    "\n",
    "    for x in range(2):\n",
    "        pag.hotkey(\"tab\")\n",
    "        time.sleep(2)\n",
    "\n",
    "    time.sleep(2)\n",
    "    # Definir período\n",
    "    pag.write(prd)\n",
    "    pag.hotkey(\"ctrl\", \"v\")\n",
    "    time.sleep(agrd_crt)\n",
    "\n",
    "    pag.press(\"enter\")\n",
    "    time.sleep(agrd_crt)\n",
    "\n",
    "    pag.click(x=1556, y=539, clicks=2)\n",
    "    time.sleep(agrd_crt)\n",
    "\n",
    "    pag.click(x=284, y=242, clicks=2)\n",
    "    time.sleep(agrd_crt)\n",
    "\n",
    "    pag.click(x=37, y=111, clicks=2)\n",
    "    time.sleep(120)\n",
    "\n",
    "    pag.click(x=134, y=110, clicks=1)\n",
    "    time.sleep(120)\n",
    "    \n",
    "#Salvar CSV na pasta Download\n",
    "    time.sleep(agrd_crt)\n",
    "    pag.hotkey(\"ctrl\",\"shift\", \"s\")\n",
    "\n",
    "    for x in range(7):\n",
    "        pag.press(\"tab\")\n",
    "        time.sleep(1)\n",
    "\n",
    "    pag.press(\"enter\")\n",
    "    pc.copy(r\"C:\\Users\\pedro.sousa\\Downloads\")\n",
    "    pag.hotkey(\"ctrl\", \"v\")\n",
    "    pag.press(\"enter\")\n",
    "\n",
    "    for x1 in range(3):\n",
    "        pag.press(\"enter\")\n",
    "        time.sleep(2)\n",
    "\n",
    "    pag.hotkey(\"alt\", \"F4\")\n",
    "    print(\"Fim da Automação\")\n",
    "    \n",
    "# Retorno de tela\n",
    "    pag.click(x=1821, y=107, clicks=1)\n",
    "    time.sleep(agrd__crt)\n"
   ]
  }
 ],
 "metadata": {
  "kernelspec": {
   "display_name": "Python 3 (ipykernel)",
   "language": "python",
   "name": "python3"
  },
  "language_info": {
   "codemirror_mode": {
    "name": "ipython",
    "version": 3
   },
   "file_extension": ".py",
   "mimetype": "text/x-python",
   "name": "python",
   "nbconvert_exporter": "python",
   "pygments_lexer": "ipython3",
   "version": "3.9.7"
  }
 },
 "nbformat": 4,
 "nbformat_minor": 5
}
